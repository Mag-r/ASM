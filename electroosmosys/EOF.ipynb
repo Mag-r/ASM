{
 "cells": [
  {
   "cell_type": "code",
   "execution_count": null,
   "metadata": {},
   "outputs": [],
   "source": [
    "import espressomd\n",
    "import numpy as np\n",
    "import matplotlib.pyplot as plt"
   ]
  },
  {
   "cell_type": "code",
   "execution_count": null,
   "metadata": {},
   "outputs": [],
   "source": [
    "\n",
    "box_length=10\n",
    "num_free_particles = 10\n",
    "\n",
    "system = espressomd.System(box_l=[box_length, box_length, box_length])\n",
    "system.time_step = 0.01\n",
    "system.cell_system.skin = 0.4\n",
    "system.periodicity = [False, False, True]\n",
    "\n",
    "\n",
    "new_parts = system.part.add(pos=np.random.random((num_free_particles, 3)) * box_length)"
   ]
  }
 ],
 "metadata": {
  "language_info": {
   "name": "python"
  }
 },
 "nbformat": 4,
 "nbformat_minor": 2
}
