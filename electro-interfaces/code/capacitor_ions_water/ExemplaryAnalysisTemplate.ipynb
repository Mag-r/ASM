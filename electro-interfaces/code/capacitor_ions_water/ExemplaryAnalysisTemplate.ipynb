{
 "cells": [
  {
   "cell_type": "markdown",
   "metadata": {},
   "source": [
    "# Exemplary Analysis of Charging\n"
   ]
  },
  {
   "cell_type": "code",
   "execution_count": 1,
   "metadata": {},
   "outputs": [
    {
     "data": {
      "application/vnd.jupyter.widget-view+json": {
       "model_id": "a808be3c60fd4ba596cbfb2afa8c5537",
       "version_major": 2,
       "version_minor": 0
      },
      "text/plain": []
     },
     "metadata": {},
     "output_type": "display_data"
    }
   ],
   "source": [
    "import maicos\n",
    "import MDAnalysis as mda\n",
    "import numpy as np\n",
    "import matplotlib.pyplot as plt\n",
    "import nglview as nv\n",
    "from scipy.optimize import curve_fit\n",
    "import scipy as sc\n",
    "# plt.style.use('seaborn-poster')"
   ]
  },
  {
   "cell_type": "code",
   "execution_count": 2,
   "metadata": {},
   "outputs": [],
   "source": [
    "def load_universe(path_topology, path_trajectory):\n",
    "    atom_groups = {}\n",
    "    u = mda.Universe(path_topology, path_trajectory)\n",
    "    atom_groups['water'] = u.select_atoms('type 2 or type 3')\n",
    "    atom_groups['graphene'] = u.select_atoms('type 1')\n",
    "    atom_groups[\"solution\"] = u.select_atoms(\"type 2 or type 3 or type 4 or type 5\") \n",
    "    atom_groups[\"ions\"] = u.select_atoms(\"type 4 or type 5\")\n",
    "    return u, atom_groups"
   ]
  },
  {
   "cell_type": "code",
   "execution_count": 3,
   "metadata": {},
   "outputs": [
    {
     "name": "stderr",
     "output_type": "stream",
     "text": [
      "/tikhome/mgern/conda/lib/python3.10/site-packages/MDAnalysis/coordinates/XDR.py:240: UserWarning: Reload offsets from trajectory\n",
      " ctime or size or n_atoms did not match\n",
      "  warnings.warn(\"Reload offsets from trajectory\\n \"\n"
     ]
    }
   ],
   "source": [
    "u, atom_groups = load_universe('./structure.data', './wallcharge.lammpstrj')"
   ]
  },
  {
   "cell_type": "markdown",
   "metadata": {},
   "source": [
    "## Visualize the System in Python"
   ]
  },
  {
   "cell_type": "code",
   "execution_count": 4,
   "metadata": {},
   "outputs": [],
   "source": [
    "# nv.show_mdanalysis(u)"
   ]
  },
  {
   "cell_type": "markdown",
   "metadata": {},
   "source": [
    "## Analyse the Solute Polarization"
   ]
  },
  {
   "cell_type": "code",
   "execution_count": 5,
   "metadata": {},
   "outputs": [],
   "source": [
    "def calc_dipole_moment_over_time(atomgroup_fluid):\n",
    "    universe = atomgroup_fluid.universe # access to the universe object\n",
    "    \n",
    "    # prepare polarization array\n",
    "    ms = np.empty((len(universe.trajectory), 1))\n",
    "    \n",
    "    for i, ts in enumerate(universe.trajectory):\n",
    "        \n",
    "        # calculate the dipole of the fluid (excluding the graphene walls!)\n",
    "        ms[i] = np.mean(np.dot(atomgroup_fluid.charges, atomgroup_fluid.positions))\n",
    "    return ms"
   ]
  },
  {
   "cell_type": "code",
   "execution_count": 6,
   "metadata": {},
   "outputs": [],
   "source": [
    "\n",
    "dipole_ts = calc_dipole_moment_over_time(atom_groups['graphene'])"
   ]
  },
  {
   "cell_type": "markdown",
   "metadata": {},
   "source": [
    "# Task: Calculate the Charging Time:\n",
    "\n",
    "Your task is now to calculate the charging time."
   ]
  },
  {
   "cell_type": "code",
   "execution_count": 7,
   "metadata": {},
   "outputs": [
    {
     "data": {
      "image/png": "[encoded data removed]",
      "text/plain": [
       "<Figure size 640x480 with 1 Axes>"
      ]
     },
     "metadata": {},
     "output_type": "display_data"
    }
   ],
   "source": [
    "plt.plot(np.linalg.norm(dipole_ts,axis=-1))\n",
    "def exponential_fit(t,tau_water,tau_ions,Q_infty,t_delay):\n",
    "    return Q_infty*(1-np.exp(-t/tau_water)) + Q_infty*(1-np.exp(-(t-t_delay)/tau_ions))\n",
    "\n",
    "# params = sc.optimize.curve_fit(exponential_fit, np.arange(len(dipole_ts)), np.linalg.norm(dipole_ts,axis=-1), p0=[1,1,1,1])\n",
    "# plt.plot(np.arange(len(dipole_ts)), exponential_fit(np.arange(len(dipole_ts)), *params[0]), label='fit')"
   ]
  },
  {
   "cell_type": "code",
   "execution_count": null,
   "metadata": {},
   "outputs": [],
   "source": []
  }
 ],
 "metadata": {
  "kernelspec": {
   "display_name": "Python 3",
   "language": "python",
   "name": "python3"
  },
  "language_info": {
   "codemirror_mode": {
    "name": "ipython",
    "version": 3
   },
   "file_extension": ".py",
   "mimetype": "text/x-python",
   "name": "python",
   "nbconvert_exporter": "python",
   "pygments_lexer": "ipython3",
   "version": "3.10.12"
  }
 },
 "nbformat": 4,
 "nbformat_minor": 4
}
