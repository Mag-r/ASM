{
 "cells": [
  {
   "cell_type": "markdown",
   "metadata": {},
   "source": [
    "# Exemplary Analysis for Dielectric Profiles\n",
    "\n",
    "This notebook will show you how to determine the charge profiles and can be used as the starting point for the calculation of the epsilon profiles."
   ]
  },
  {
   "cell_type": "code",
   "execution_count": null,
   "metadata": {},
   "outputs": [],
   "source": [
    "import MDAnalysis as mda\n",
    "import maicos\n",
    "import matplotlib.pyplot as plt\n",
    "import numpy as np\n",
    "plt.style.use('seaborn-poster')"
   ]
  },
  {
   "cell_type": "code",
   "execution_count": null,
   "metadata": {},
   "outputs": [],
   "source": [
    "# load the simulation data, but shift so that the z-coordinates are positive (mdanalysis will do strange unwrapping if you neglect this)\n",
    "def shift_z_axis(ts):\n",
    "    ts.positions += [0, 0, ts.dimensions[2]/2]\n",
    "    return ts\n",
    "\n",
    "u = mda.Universe('path_to_data_file', 'path_to_trajectory', transformations=[shift_z_axis])"
   ]
  },
  {
   "cell_type": "code",
   "execution_count": null,
   "metadata": {},
   "outputs": [],
   "source": [
    "water = u.select_atoms('type 2 or type 3') # atomgroup for water"
   ]
  },
  {
   "cell_type": "code",
   "execution_count": null,
   "metadata": {},
   "outputs": [],
   "source": [
    "density_planar = maicos.DensityPlanar(water, binwidth=.05, dens='charge').run(step=1, verbose=True).results"
   ]
  },
  {
   "cell_type": "code",
   "execution_count": null,
   "metadata": {},
   "outputs": [],
   "source": [
    "# Maicos result objects are a dictionary, you can plot them e.g. using the following code:\n",
    "plt.errorbar(density_planar['z'], density_planar['dens_mean'], yerr=density_planar['dens_err'].flatten())\n",
    "plt.show()"
   ]
  },
  {
   "cell_type": "code",
   "execution_count": null,
   "metadata": {},
   "outputs": [],
   "source": [
    "#integral of data_arr with a per-bin length dx\n",
    "def numerical_integral(data_arr, dx):\n",
    "    return np.cumsum(dx*data_arr)"
   ]
  },
  {
   "cell_type": "code",
   "execution_count": null,
   "metadata": {},
   "outputs": [],
   "source": [
    "# todo.... Do analysis here."
   ]
  }
 ],
 "metadata": {
  "kernelspec": {
   "display_name": "Python 3",
   "language": "python",
   "name": "python3"
  },
  "language_info": {
   "codemirror_mode": {
    "name": "ipython",
    "version": 3
   },
   "file_extension": ".py",
   "mimetype": "text/x-python",
   "name": "python",
   "nbconvert_exporter": "python",
   "pygments_lexer": "ipython3",
   "version": "3.8.10"
  }
 },
 "nbformat": 4,
 "nbformat_minor": 4
}
