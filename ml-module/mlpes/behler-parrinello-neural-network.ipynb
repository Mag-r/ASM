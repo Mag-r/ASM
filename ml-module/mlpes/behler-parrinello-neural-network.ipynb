{
 "cells": [
  {
   "cell_type": "code",
   "execution_count": null,
   "metadata": {},
   "outputs": [],
   "source": [
    "# Linalg support\n",
    "import numpy as onp\n",
    "\n",
    "# Jax imports\n",
    "import jax\n",
    "from jax import lax\n",
    "from jax import jit, vmap, grad\n",
    "import jax.numpy as np\n",
    "from jax import random\n",
    "\n",
    "# ML imports\n",
    "import optax\n",
    "\n",
    "# Jax-md imports\n",
    "from jax_md import energy, space, simulate, quantity\n",
    "\n",
    "# Plotting.\n",
    "import matplotlib.pyplot as plt"
   ]
  },
  {
   "cell_type": "code",
   "execution_count": null,
   "metadata": {},
   "outputs": [],
   "source": [
    "# Load up your saved data here.\n",
    "positions = np.load(\"trajectory.npy\")\n",
    "energies = np.load(\"energy.npy\")\n",
    "forces = np.load(\"forces.npy\")"
   ]
  },
  {
   "cell_type": "code",
   "execution_count": null,
   "metadata": {},
   "outputs": [],
   "source": [
    "# Split the data into training and testing sets.\n",
    "n_train_points = 800\n",
    "train_indices = onp.random.choice(np.arange(energies.shape[0]), n_train_points, replace=False)\n",
    "test_indices = np.array([i for i in np.arange(energies.shape[0]) if i not in train_indices])\n",
    "\n",
    "train_positions = positions[train_indices]\n",
    "train_energies = energies[train_indices]\n",
    "train_forces = forces[train_indices]\n",
    "\n",
    "test_positions = positions[test_indices]\n",
    "test_energies = energies[test_indices]\n",
    "test_forces = forces[test_indices]"
   ]
  },
  {
   "cell_type": "code",
   "execution_count": null,
   "metadata": {},
   "outputs": [],
   "source": [
    "# Normalize the energies.\n",
    "energy_mean = np.mean(train_energies)\n",
    "energy_std = np.std(train_energies)\n",
    "\n",
    "train_energies = (train_energies - energy_mean) / energy_std\n",
    "test_energies = (test_energies - energy_mean) / energy_std"
   ]
  },
  {
   "cell_type": "code",
   "execution_count": null,
   "metadata": {},
   "outputs": [],
   "source": [
    "box_size = 14.474693  # The size of the simulation region, adjust if necessary.\n",
    "displacement, shift = space.periodic(box_size)"
   ]
  },
  {
   "cell_type": "code",
   "execution_count": null,
   "metadata": {},
   "outputs": [],
   "source": [
    "# Define the Behler Parrinello Neural Network.\n",
    "neighbor_fn, init_fn, energy_fn = energy.behler_parrinello_neighbor_list(\n",
    "    displacement, box_size, dr_threshold=0.1, sym_kwargs={\"cutoff_distance\": 4.0})\n",
    "\n",
    "# Neighbour list computation, should improve performance.\n",
    "neighbor = neighbor_fn.allocate(train_positions[0], extra_capacity=6)\n",
    "\n",
    "print('Allocating space for at most {} edges'.format(neighbor.idx.shape[1]))"
   ]
  },
  {
   "cell_type": "code",
   "execution_count": null,
   "metadata": {},
   "outputs": [],
   "source": [
    "@jit\n",
    "def train_energy_fn(params, R):\n",
    "  _neighbor = neighbor.update(R)\n",
    "  return energy_fn(params, R, _neighbor)\n",
    "\n",
    "# Vectorize over states, not parameters.\n",
    "vectorized_energy_fn = vmap(train_energy_fn, (None, 0))\n",
    "\n",
    "grad_fn = grad(train_energy_fn, argnums=1)\n",
    "force_fn = lambda params, R, **kwargs: -grad_fn(params, R)\n",
    "vectorized_force_fn = vmap(force_fn, (None, 0))"
   ]
  },
  {
   "cell_type": "code",
   "execution_count": null,
   "metadata": {},
   "outputs": [],
   "source": [
    "# Initialize the neural network parameters\n",
    "key = random.PRNGKey(0)\n",
    "params = init_fn(key, train_positions[0], neighbor)"
   ]
  },
  {
   "cell_type": "code",
   "execution_count": null,
   "metadata": {},
   "outputs": [],
   "source": [
    "# Look at the priors over the data before training. What do you see?\n",
    "\n",
    "predicted_energies = vmap(train_energy_fn, (None, 0))(params, train_positions)\n",
    "predicted_forces = vectorized_force_fn(params, test_positions)\n",
    "\n",
    "fig, ax = plt.subplots(1, 2, figsize=(8, 8))\n",
    "\n",
    "# Energy priors\n",
    "ax[0].plot(train_energies, predicted_energies, 'o')\n",
    "ax[0].plot(train_energies, train_energies, 'k--')\n",
    "\n",
    "# Force priors\n",
    "ax[1].plot(test_forces.flatten(), predicted_forces.flatten(), 'o')\n",
    "ax[1].plot(test_forces.flatten(), test_forces.flatten(), 'k--')\n",
    "\n",
    "plt.show()"
   ]
  },
  {
   "cell_type": "code",
   "execution_count": null,
   "metadata": {},
   "outputs": [],
   "source": [
    "# Define the loss functions.\n",
    "@jit\n",
    "def energy_loss(params, R, energy_targets):\n",
    "  return np.mean((vectorized_energy_fn(params, R) - energy_targets) ** 2)\n",
    "\n",
    "@jit\n",
    "def force_loss(params, R, force_targets):\n",
    "  dforces = vectorized_force_fn(params, R) - force_targets\n",
    "  return np.mean(np.sum(dforces ** 2, axis=(1, 2)))\n",
    "\n",
    "@jit\n",
    "def loss(params, R, targets):\n",
    "  return energy_loss(params, R, targets[0]) + force_loss(params, R, targets[1])"
   ]
  },
  {
   "cell_type": "code",
   "execution_count": null,
   "metadata": {},
   "outputs": [],
   "source": [
    "opt = optax.chain(\n",
    "  optax.clip_by_global_norm(1.0), optax.adam(1e-3)\n",
    ")\n",
    "\n",
    "@jit\n",
    "def update_step(params, opt_state, R, labels):\n",
    "  updates, opt_state = opt.update(grad(loss)(params, R, labels),\n",
    "                                  opt_state)\n",
    "  return optax.apply_updates(params, updates), opt_state\n",
    "\n",
    "@jit\n",
    "def update_epoch(params_and_opt_state, batches):\n",
    "  def inner_update(params_and_opt_state, batch):\n",
    "    params, opt_state = params_and_opt_state\n",
    "    b_xs, b_labels = batch\n",
    "\n",
    "    return update_step(params, opt_state, b_xs, b_labels), 0\n",
    "  return lax.scan(inner_update, params_and_opt_state, batches)[0]"
   ]
  },
  {
   "cell_type": "code",
   "execution_count": null,
   "metadata": {},
   "outputs": [],
   "source": [
    "dataset_size = train_positions.shape[0]\n",
    "batch_size = 128\n",
    "\n",
    "lookup = onp.arange(dataset_size)\n",
    "onp.random.shuffle(lookup)\n",
    "\n",
    "@jit\n",
    "def make_batches(lookup):\n",
    "  batch_Rs = []\n",
    "  batch_Es = []\n",
    "  batch_Fs = []\n",
    "\n",
    "  for i in range(0, len(lookup), batch_size):\n",
    "    if i + batch_size > len(lookup):\n",
    "      break\n",
    "\n",
    "    idx = lookup[i:i + batch_size]\n",
    "\n",
    "    batch_Rs += [train_positions[idx]]\n",
    "    batch_Es += [train_energies[idx]]\n",
    "    batch_Fs += [train_forces[idx]]\n",
    "\n",
    "  return np.stack(batch_Rs), np.stack(batch_Es), np.stack(batch_Fs)\n",
    "\n",
    "batch_Rs, batch_Es, batch_Fs = make_batches(lookup)"
   ]
  },
  {
   "cell_type": "code",
   "execution_count": null,
   "metadata": {},
   "outputs": [],
   "source": [
    "train_epochs = 5000  # Adjust as necessary.\n",
    "\n",
    "opt_state = opt.init(params)\n",
    "\n",
    "train_energy_error = []\n",
    "test_energy_error = []\n",
    "\n",
    "for iteration in range(train_epochs):\n",
    "  train_energy_error += [float(np.sqrt(energy_loss(params, batch_Rs[0], batch_Es[0])))]\n",
    "  test_energy_error += [float(np.sqrt(energy_loss(params, test_positions, test_energies)))]\n",
    " \n",
    "  params, opt_state = update_epoch((params, opt_state), \n",
    "                                   (batch_Rs, (batch_Es, batch_Fs)))\n",
    "\n",
    "  onp.random.shuffle(lookup)\n",
    "  batch_Rs, batch_Es, batch_Fs = make_batches(lookup)"
   ]
  },
  {
   "cell_type": "code",
   "execution_count": null,
   "metadata": {},
   "outputs": [],
   "source": [
    "fig, ax = plt.subplots(1, 2)\n",
    "\n",
    "predicted_energies = vectorized_energy_fn(params, test_positions)\n",
    "ax[0].plot(test_energies, predicted_energies, 'o')\n",
    "ax[0].plot(test_energies, test_energies, '--')\n",
    "\n",
    "\n",
    "predicted_forces = vectorized_force_fn(params, test_positions)\n",
    "ax[1].plot(test_forces.reshape((-1,)),\n",
    "         predicted_forces.reshape((-1,)), \n",
    "         'o')\n",
    "ax[1].plot(\n",
    "    test_forces.reshape((-1,)),\n",
    "    test_forces.reshape((-1,)),\n",
    ")\n",
    "\n",
    "plt.show()"
   ]
  },
  {
   "cell_type": "code",
   "execution_count": null,
   "metadata": {},
   "outputs": [],
   "source": [
    "def compute_energy_metrics(energy_predictions: np.ndarray, energy_targets: np.ndarray):\n",
    "    "
   ]
  },
  {
   "cell_type": "code",
   "execution_count": null,
   "metadata": {},
   "outputs": [],
   "source": [
    "# Save your model parameters.\n"
   ]
  }
 ],
 "metadata": {
  "kernelspec": {
   "display_name": "theoml",
   "language": "python",
   "name": "python3"
  },
  "language_info": {
   "codemirror_mode": {
    "name": "ipython",
    "version": 3
   },
   "file_extension": ".py",
   "mimetype": "text/x-python",
   "name": "python",
   "nbconvert_exporter": "python",
   "pygments_lexer": "ipython3",
   "version": "3.11.5"
  }
 },
 "nbformat": 4,
 "nbformat_minor": 2
}
