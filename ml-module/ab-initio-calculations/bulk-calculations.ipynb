{
 "cells": [
  {
   "cell_type": "code",
   "execution_count": null,
   "metadata": {},
   "outputs": [],
   "source": [
    "# Linalg modules\n",
    "import numpy as np\n",
    "\n",
    "# Plotting modules\n",
    "import matplotlib.pyplot as plt\n",
    "\n",
    "# ASE modules\n",
    "import ase\n",
    "from ase.calculators.cp2k import CP2K\n",
    "import pickle"
   ]
  },
  {
   "cell_type": "code",
   "execution_count": null,
   "metadata": {},
   "outputs": [],
   "source": [
    "trajectory = 0  # Load your data here\n",
    "with open(\"/tikhome/mgern/Desktop/AdvancedSimMethods/ml-module/configuration-space-exploration/selected_configurations.pkl\",'rb') as f:\n",
    "     # Load one data frame here\n",
    "    trajectory = pickle.load(f)"
   ]
  },
  {
   "cell_type": "code",
   "execution_count": null,
   "metadata": {},
   "outputs": [],
   "source": [
    "# This is required for ASE to work with CP2K. If you are working from your own computer, you may need to change this path.\n",
    "CP2K.command = \"/group/allatom/cp2kv2024.1/exe/local/cp2k_shell.psmp\"\n",
    "\n",
    "# This will make things faster by restarting wavefunctions guesses from past calculations.\n",
    "restart_inp = \"\"\"\n",
    "&FORCE_EVAL\n",
    "&DFT\n",
    "&SCF\n",
    "            SCF_GUESS RESTART\n",
    "            IGNORE_CONVERGENCE_FAILURE\n",
    "&END SCF\n",
    "&END DFT\n",
    "&END FORCE_EVAL\n",
    "\"\"\"\n",
    "\n",
    "\n",
    "calculator = CP2K(xc=\"pbe\", inp=restart_inp)  # Change this to fit your DFT settings."
   ]
  },
  {
   "cell_type": "code",
   "execution_count": null,
   "metadata": {},
   "outputs": [],
   "source": [
    "energies = []\n",
    "forces = []\n",
    "atoms_objects = []\n",
    "\n",
    "# In principle, this can be parallelized. I will leave this as an exercise for you.\n",
    "for frame in trajectory:\n",
    "    atoms = ase.Atoms(\"Ar64\", positions=frame, pbc=[1, 1, 1], cell=np.ones(3) * 14.474693)\n",
    "    energy = calculator.get_potential_energy(atoms)\n",
    "    force = calculator.get_forces(atoms)\n",
    "\n",
    "    energies.append(energy)\n",
    "    forces.append(force)\n",
    "    atoms_objects.append(atoms)"
   ]
  },
  {
   "cell_type": "code",
   "execution_count": null,
   "metadata": {},
   "outputs": [],
   "source": [
    "# Save the data\n",
    "np.save(\"energy_pbe.npy\", energies)\n",
    "np.save(\"forces_pbe.npy\", forces)\n"
   ]
  }
 ],
 "metadata": {
  "kernelspec": {
   "display_name": "Python 3 (ipykernel)",
   "language": "python",
   "name": "python3"
  },
  "language_info": {
   "codemirror_mode": {
    "name": "ipython",
    "version": 3
   },
   "file_extension": ".py",
   "mimetype": "text/x-python",
   "name": "python",
   "nbconvert_exporter": "python",
   "pygments_lexer": "ipython3",
   "version": "3.11.5"
  }
 },
 "nbformat": 4,
 "nbformat_minor": 2
}
