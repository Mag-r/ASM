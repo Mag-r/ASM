{
 "cells": [
  {
   "cell_type": "code",
   "execution_count": 1,
   "metadata": {},
   "outputs": [],
   "source": [
    "# Linalg modules\n",
    "import numpy as np\n",
    "\n",
    "# Plotting modules\n",
    "import matplotlib.pyplot as plt\n",
    "\n",
    "# ASE modules\n",
    "import ase\n",
    "import pickle\n",
    "from tqdm import tqdm\n",
    "from ase.calculators.cp2k import CP2K"
   ]
  },
  {
   "cell_type": "code",
   "execution_count": 2,
   "metadata": {},
   "outputs": [
    {
     "name": "stderr",
     "output_type": "stream",
     "text": [
      "2024-05-02 14:56:54.592722: E external/xla/xla/stream_executor/cuda/cuda_driver.cc:282] failed call to cuInit: CUDA_ERROR_COMPAT_NOT_SUPPORTED_ON_DEVICE: forward compatibility was attempted on non supported HW\n",
      "2024-05-02 14:56:54.592837: E external/xla/xla/stream_executor/cuda/cuda_diagnostics.cc:256] kernel version 535.171.4 does not match DSO version 550.67.0 -- cannot find working devices in this configuration\n",
      "CUDA backend failed to initialize: FAILED_PRECONDITION: No visible GPU devices. (Set TF_CPP_MIN_LOG_LEVEL=0 and rerun for more info.)\n"
     ]
    }
   ],
   "source": [
    "frame=0\n",
    "with open(\"/tikhome/mgern/Desktop/AdvancedSimMethods/ml-module/configuration-space-exploration/selected_configurations.pkl\",'rb') as f:\n",
    "     # Load one data frame here\n",
    "    data = pickle.load(f)\n",
    "    frame=data[0]"
   ]
  },
  {
   "cell_type": "code",
   "execution_count": 27,
   "metadata": {},
   "outputs": [],
   "source": [
    "def build_cp2k_iniut(cutoff: int) -> str:\n",
    "    \"\"\"\n",
    "    Build the CP2K input file for varying cutoff.\n",
    "\n",
    "    Parameters\n",
    "    ----------\n",
    "    cutoff : int\n",
    "        The cutoff energy in Rydberg.\n",
    "    \"\"\"\n",
    "    return f\"\"\"\n",
    "        &FORCE_EVAL\n",
    "        &DFT\n",
    "        # &MGRID\n",
    "        #             CUTOFF {cutoff}\n",
    "        # &END MGRID\n",
    "        # &VDW_POTENTIAL\n",
    "        #     POTENTIAL_TYPE PAIR_POTENTIAL\n",
    "        #     &PAIR_POTENTIAL\n",
    "        #         PARAMETER_FILE_NAME /group/allatom/cp2kv2024.1/data/vdW_kernel_table.dat\n",
    "        #         REFERENCE_FUNCTIONAL PBE\n",
    "        #         TYPE DFTD3\n",
    "        #     &END PAIR_POTENTIAL\n",
    "        # &END VDW_POTENTIAL\n",
    "        &SCF\n",
    "                    SCF_GUESS RESTART\n",
    "                    IGNORE_CONVERGENCE_FAILURE\n",
    "        &END SCF\n",
    "        &END DFT\n",
    "        &END FORCE_EVAL\n",
    "    \"\"\""
   ]
  },
  {
   "cell_type": "code",
   "execution_count": 29,
   "metadata": {},
   "outputs": [
    {
     "name": "stderr",
     "output_type": "stream",
     "text": [
      "  0%|          | 0/10 [00:06<?, ?it/s]\n"
     ]
    },
    {
     "ename": "KeyboardInterrupt",
     "evalue": "",
     "output_type": "error",
     "traceback": [
      "\u001b[0;31m---------------------------------------------------------------------------\u001b[0m",
      "\u001b[0;31mKeyboardInterrupt\u001b[0m                         Traceback (most recent call last)",
      "Cell \u001b[0;32mIn[29], line 16\u001b[0m\n\u001b[1;32m     14\u001b[0m \u001b[38;5;66;03m# Create the atoms object\u001b[39;00m\n\u001b[1;32m     15\u001b[0m atoms \u001b[38;5;241m=\u001b[39m ase\u001b[38;5;241m.\u001b[39mAtoms(\u001b[38;5;124m\"\u001b[39m\u001b[38;5;124mAr64\u001b[39m\u001b[38;5;124m\"\u001b[39m, positions\u001b[38;5;241m=\u001b[39mframe, pbc\u001b[38;5;241m=\u001b[39m[\u001b[38;5;241m1\u001b[39m, \u001b[38;5;241m1\u001b[39m, \u001b[38;5;241m1\u001b[39m], cell\u001b[38;5;241m=\u001b[39mnp\u001b[38;5;241m.\u001b[39mones(\u001b[38;5;241m3\u001b[39m) \u001b[38;5;241m*\u001b[39m \u001b[38;5;241m14.474693\u001b[39m)\n\u001b[0;32m---> 16\u001b[0m energies\u001b[38;5;241m.\u001b[39mappend(\u001b[43mcalculator\u001b[49m\u001b[38;5;241;43m.\u001b[39;49m\u001b[43mget_potential_energy\u001b[49m\u001b[43m(\u001b[49m\u001b[43matoms\u001b[49m\u001b[43m)\u001b[49m)\n\u001b[1;32m     17\u001b[0m forces\u001b[38;5;241m.\u001b[39mappend(calculator\u001b[38;5;241m.\u001b[39mget_forces(atoms))\n",
      "File \u001b[0;32m~/conda/envs/mlpes/lib/python3.10/site-packages/ase/calculators/calculator.py:709\u001b[0m, in \u001b[0;36mCalculator.get_potential_energy\u001b[0;34m(self, atoms, force_consistent)\u001b[0m\n\u001b[1;32m    708\u001b[0m \u001b[38;5;28;01mdef\u001b[39;00m \u001b[38;5;21mget_potential_energy\u001b[39m(\u001b[38;5;28mself\u001b[39m, atoms\u001b[38;5;241m=\u001b[39m\u001b[38;5;28;01mNone\u001b[39;00m, force_consistent\u001b[38;5;241m=\u001b[39m\u001b[38;5;28;01mFalse\u001b[39;00m):\n\u001b[0;32m--> 709\u001b[0m     energy \u001b[38;5;241m=\u001b[39m \u001b[38;5;28;43mself\u001b[39;49m\u001b[38;5;241;43m.\u001b[39;49m\u001b[43mget_property\u001b[49m\u001b[43m(\u001b[49m\u001b[38;5;124;43m'\u001b[39;49m\u001b[38;5;124;43menergy\u001b[39;49m\u001b[38;5;124;43m'\u001b[39;49m\u001b[43m,\u001b[49m\u001b[43m \u001b[49m\u001b[43matoms\u001b[49m\u001b[43m)\u001b[49m\n\u001b[1;32m    710\u001b[0m     \u001b[38;5;28;01mif\u001b[39;00m force_consistent:\n\u001b[1;32m    711\u001b[0m         \u001b[38;5;28;01mif\u001b[39;00m \u001b[38;5;124m'\u001b[39m\u001b[38;5;124mfree_energy\u001b[39m\u001b[38;5;124m'\u001b[39m \u001b[38;5;129;01mnot\u001b[39;00m \u001b[38;5;129;01min\u001b[39;00m \u001b[38;5;28mself\u001b[39m\u001b[38;5;241m.\u001b[39mresults:\n",
      "File \u001b[0;32m~/conda/envs/mlpes/lib/python3.10/site-packages/ase/calculators/calculator.py:737\u001b[0m, in \u001b[0;36mCalculator.get_property\u001b[0;34m(self, name, atoms, allow_calculation)\u001b[0m\n\u001b[1;32m    735\u001b[0m     \u001b[38;5;28;01mif\u001b[39;00m \u001b[38;5;129;01mnot\u001b[39;00m allow_calculation:\n\u001b[1;32m    736\u001b[0m         \u001b[38;5;28;01mreturn\u001b[39;00m \u001b[38;5;28;01mNone\u001b[39;00m\n\u001b[0;32m--> 737\u001b[0m     \u001b[38;5;28;43mself\u001b[39;49m\u001b[38;5;241;43m.\u001b[39;49m\u001b[43mcalculate\u001b[49m\u001b[43m(\u001b[49m\u001b[43matoms\u001b[49m\u001b[43m,\u001b[49m\u001b[43m \u001b[49m\u001b[43m[\u001b[49m\u001b[43mname\u001b[49m\u001b[43m]\u001b[49m\u001b[43m,\u001b[49m\u001b[43m \u001b[49m\u001b[43msystem_changes\u001b[49m\u001b[43m)\u001b[49m\n\u001b[1;32m    739\u001b[0m \u001b[38;5;28;01mif\u001b[39;00m name \u001b[38;5;129;01mnot\u001b[39;00m \u001b[38;5;129;01min\u001b[39;00m \u001b[38;5;28mself\u001b[39m\u001b[38;5;241m.\u001b[39mresults:\n\u001b[1;32m    740\u001b[0m     \u001b[38;5;66;03m# For some reason the calculator was not able to do what we want,\u001b[39;00m\n\u001b[1;32m    741\u001b[0m     \u001b[38;5;66;03m# and that is OK.\u001b[39;00m\n\u001b[1;32m    742\u001b[0m     \u001b[38;5;28;01mraise\u001b[39;00m PropertyNotImplementedError(\u001b[38;5;124m'\u001b[39m\u001b[38;5;132;01m{}\u001b[39;00m\u001b[38;5;124m not present in this \u001b[39m\u001b[38;5;124m'\u001b[39m\n\u001b[1;32m    743\u001b[0m                                       \u001b[38;5;124m'\u001b[39m\u001b[38;5;124mcalculation\u001b[39m\u001b[38;5;124m'\u001b[39m\u001b[38;5;241m.\u001b[39mformat(name))\n",
      "File \u001b[0;32m~/conda/envs/mlpes/lib/python3.10/site-packages/ase/calculators/cp2k.py:282\u001b[0m, in \u001b[0;36mCP2K.calculate\u001b[0;34m(self, atoms, properties, system_changes)\u001b[0m\n\u001b[1;32m    279\u001b[0m     \u001b[38;5;28mself\u001b[39m\u001b[38;5;241m.\u001b[39m_shell\u001b[38;5;241m.\u001b[39mexpect(\u001b[38;5;124m'\u001b[39m\u001b[38;5;124m* READY\u001b[39m\u001b[38;5;124m'\u001b[39m)\n\u001b[1;32m    281\u001b[0m \u001b[38;5;28mself\u001b[39m\u001b[38;5;241m.\u001b[39m_shell\u001b[38;5;241m.\u001b[39msend(\u001b[38;5;124m'\u001b[39m\u001b[38;5;124mEVAL_EF \u001b[39m\u001b[38;5;132;01m%d\u001b[39;00m\u001b[38;5;124m'\u001b[39m \u001b[38;5;241m%\u001b[39m \u001b[38;5;28mself\u001b[39m\u001b[38;5;241m.\u001b[39m_force_env_id)\n\u001b[0;32m--> 282\u001b[0m \u001b[38;5;28;43mself\u001b[39;49m\u001b[38;5;241;43m.\u001b[39;49m\u001b[43m_shell\u001b[49m\u001b[38;5;241;43m.\u001b[39;49m\u001b[43mexpect\u001b[49m\u001b[43m(\u001b[49m\u001b[38;5;124;43m'\u001b[39;49m\u001b[38;5;124;43m* READY\u001b[39;49m\u001b[38;5;124;43m'\u001b[39;49m\u001b[43m)\u001b[49m\n\u001b[1;32m    284\u001b[0m \u001b[38;5;28mself\u001b[39m\u001b[38;5;241m.\u001b[39m_shell\u001b[38;5;241m.\u001b[39msend(\u001b[38;5;124m'\u001b[39m\u001b[38;5;124mGET_E \u001b[39m\u001b[38;5;132;01m%d\u001b[39;00m\u001b[38;5;124m'\u001b[39m \u001b[38;5;241m%\u001b[39m \u001b[38;5;28mself\u001b[39m\u001b[38;5;241m.\u001b[39m_force_env_id)\n\u001b[1;32m    285\u001b[0m \u001b[38;5;28mself\u001b[39m\u001b[38;5;241m.\u001b[39mresults[\u001b[38;5;124m'\u001b[39m\u001b[38;5;124menergy\u001b[39m\u001b[38;5;124m'\u001b[39m] \u001b[38;5;241m=\u001b[39m \u001b[38;5;28mfloat\u001b[39m(\u001b[38;5;28mself\u001b[39m\u001b[38;5;241m.\u001b[39m_shell\u001b[38;5;241m.\u001b[39mrecv())\n",
      "File \u001b[0;32m~/conda/envs/mlpes/lib/python3.10/site-packages/ase/calculators/cp2k.py:534\u001b[0m, in \u001b[0;36mCp2kShell.expect\u001b[0;34m(self, line)\u001b[0m\n\u001b[1;32m    532\u001b[0m \u001b[38;5;28;01mdef\u001b[39;00m \u001b[38;5;21mexpect\u001b[39m(\u001b[38;5;28mself\u001b[39m, line):\n\u001b[1;32m    533\u001b[0m \u001b[38;5;250m    \u001b[39m\u001b[38;5;124;03m\"\"\"Receive a line and asserts that it matches the expected one\"\"\"\u001b[39;00m\n\u001b[0;32m--> 534\u001b[0m     received \u001b[38;5;241m=\u001b[39m \u001b[38;5;28;43mself\u001b[39;49m\u001b[38;5;241;43m.\u001b[39;49m\u001b[43mrecv\u001b[49m\u001b[43m(\u001b[49m\u001b[43m)\u001b[49m\n\u001b[1;32m    535\u001b[0m     \u001b[38;5;28;01massert\u001b[39;00m received \u001b[38;5;241m==\u001b[39m line\n",
      "File \u001b[0;32m~/conda/envs/mlpes/lib/python3.10/site-packages/ase/calculators/cp2k.py:526\u001b[0m, in \u001b[0;36mCp2kShell.recv\u001b[0;34m(self)\u001b[0m\n\u001b[1;32m    524\u001b[0m \u001b[38;5;250m\u001b[39m\u001b[38;5;124;03m\"\"\"Receive a line from the cp2k_shell\"\"\"\u001b[39;00m\n\u001b[1;32m    525\u001b[0m \u001b[38;5;28;01massert\u001b[39;00m \u001b[38;5;28mself\u001b[39m\u001b[38;5;241m.\u001b[39m_child\u001b[38;5;241m.\u001b[39mpoll() \u001b[38;5;129;01mis\u001b[39;00m \u001b[38;5;28;01mNone\u001b[39;00m  \u001b[38;5;66;03m# child process still alive?\u001b[39;00m\n\u001b[0;32m--> 526\u001b[0m line \u001b[38;5;241m=\u001b[39m \u001b[38;5;28;43mself\u001b[39;49m\u001b[38;5;241;43m.\u001b[39;49m\u001b[43m_child\u001b[49m\u001b[38;5;241;43m.\u001b[39;49m\u001b[43mstdout\u001b[49m\u001b[38;5;241;43m.\u001b[39;49m\u001b[43mreadline\u001b[49m\u001b[43m(\u001b[49m\u001b[43m)\u001b[49m\u001b[38;5;241m.\u001b[39mstrip()\n\u001b[1;32m    527\u001b[0m \u001b[38;5;28;01mif\u001b[39;00m \u001b[38;5;28mself\u001b[39m\u001b[38;5;241m.\u001b[39m_debug:\n\u001b[1;32m    528\u001b[0m     \u001b[38;5;28mprint\u001b[39m(\u001b[38;5;124m'\u001b[39m\u001b[38;5;124mReceived: \u001b[39m\u001b[38;5;124m'\u001b[39m \u001b[38;5;241m+\u001b[39m line)\n",
      "\u001b[0;31mKeyboardInterrupt\u001b[0m: "
     ]
    }
   ],
   "source": [
    "# This is required for ASE to work with CP2K. If you are working from your own computer, you may need to change this path.\n",
    "CP2K.command = \"/group/allatom/cp2kv2024.1/exe/local/cp2k_shell.psmp\"\n",
    "\n",
    "cutoffs = np.linspace(100,500,10)  # Fill this in\n",
    "\n",
    "energies = []\n",
    "forces = []\n",
    "\n",
    "for cutoff in tqdm(cutoffs):\n",
    "    cp2k_input = build_cp2k_iniut(cutoff)\n",
    "\n",
    "    calculator = CP2K(xc=\"BEEF\", inp=cp2k_input)  # Adapt this functional for your system.\n",
    "\n",
    "    # Create the atoms object\n",
    "    atoms = ase.Atoms(\"Ar64\", positions=frame, pbc=[1, 1, 1], cell=np.ones(3) * 14.474693)\n",
    "    energies.append(calculator.get_potential_energy(atoms))\n",
    "    forces.append(calculator.get_forces(atoms))"
   ]
  },
  {
   "cell_type": "code",
   "execution_count": null,
   "metadata": {},
   "outputs": [],
   "source": [
    "# Plot energy and force as a function of cutoff\n",
    "np.savetxt(\"energies_pbe.txt\", energies)\n",
    "np.savetxt(\"forces_pbe.txt\", forces)\n",
    "fig, ax = plt.subplots(2, 1, figsize=(6, 8))\n",
    "ax[0].plot(cutoffs, energies, \"o-\")\n",
    "ax[0].set_xlabel(\"Cutoff (Rydberg)\")\n",
    "ax[0].set_ylabel(\"Energy (eV)\")\n",
    "ax[1].plot(cutoffs, forces, \"o-\")\n",
    "ax[1].set_xlabel(\"Cutoff (Rydberg)\")\n",
    "ax[1].set_ylabel(\"Force (eV/Angstrom)\")\n",
    "plt.tight_layout()\n",
    "plt.savefig(\"convergence.pdf\")\n",
    "plt.show()\n"
   ]
  }
 ],
 "metadata": {
  "kernelspec": {
   "display_name": "Python 3 (ipykernel)",
   "language": "python",
   "name": "python3"
  },
  "language_info": {
   "codemirror_mode": {
    "name": "ipython",
    "version": 3
   },
   "file_extension": ".py",
   "mimetype": "text/x-python",
   "name": "python",
   "nbconvert_exporter": "python",
   "pygments_lexer": "ipython3",
   "version": "3.10.14"
  }
 },
 "nbformat": 4,
 "nbformat_minor": 2
}
