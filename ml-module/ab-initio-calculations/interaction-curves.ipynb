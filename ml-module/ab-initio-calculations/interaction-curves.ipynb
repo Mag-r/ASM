{
 "cells": [
  {
   "cell_type": "code",
   "execution_count": null,
   "metadata": {},
   "outputs": [],
   "source": [
    "# Linalg imports\n",
    "import numpy as np\n",
    "\n",
    "# Plotting imports\n",
    "import matplotlib.pyplot as plt\n",
    "\n",
    "# ASE imports\n",
    "import ase\n",
    "from ase.calculators.cp2k import CP2K\n",
    "\n",
    "# Helper imports\n",
    "from rich.progress import track\n",
    "from tqdm import tqdm"
   ]
  },
  {
   "cell_type": "code",
   "execution_count": null,
   "metadata": {},
   "outputs": [],
   "source": [
    "# Set the parameters of the study\n",
    "distances = np.linspace(1.0, 5.0, 50)  # From 1.0 to 5 Angstroms\n",
    "\n",
    "# Expand this to include more functionals\n",
    "functionals = [\"PBE\"]\n",
    "\n",
    "# Expand this to include RVV10 dispersion corrections. See the CP2K website for details\n",
    "restart_inp = \"\"\"\n",
    "&FORCE_EVAL\n",
    "&DFT\n",
    "&SCF\n",
    "            SCF_GUESS RESTART\n",
    "            IGNORE_CONVERGENCE_FAILURE\n",
    "&END SCF\n",
    "&XC\n",
    "&XC_FUNCTIONAL PBE\n",
    "&END XC_FUNCTIONAL\n",
    "# Remove when correlation is not required.\n",
    "&vdW_POTENTIAL\n",
    "    DISPERSION_FUNCTIONAL NON_LOCAL\n",
    "    &NON_LOCAL\n",
    "        TYPE RVV10\n",
    "        PARAMETERS 6.3 0.0093\n",
    "        VERBOSE_OUTPUT\n",
    "        KERNEL_FILE_NAME /beegfs/work/stovey/Software/cp2k_data/rVV10_kernel_table.dat\n",
    "        CUTOFF  400\n",
    "    &END NON_LOCAL\n",
    "&END vdW_POTENTIAL\n",
    "&END XC\n",
    "&END DFT\n",
    "&END FORCE_EVAL\n",
    "\"\"\""
   ]
  },
  {
   "cell_type": "code",
   "execution_count": null,
   "metadata": {},
   "outputs": [],
   "source": [
    "def compute_energy_curves(\n",
    "    distances: np.ndarray, functional: str, input_string: str\n",
    ") -> (list, list):\n",
    "    \"\"\"\n",
    "    Compute the energy curves for a given functional and input string\n",
    "\n",
    "    Parameters\n",
    "    ----------\n",
    "    distances : np.ndarray\n",
    "        The distances to compute the energy curves for\n",
    "    functional : str\n",
    "        The functional to use\n",
    "    input_string : str\n",
    "        The input string to use. This is where your dispersion corrections\n",
    "        will be defined.\n",
    "    \"\"\"\n",
    "\n",
    "    energies = []\n",
    "    forces = []\n",
    "    CP2K.command = \"/group/allatom/cp2kv2024.1/exe/local/cp2k_shell.psmp\"\n",
    "\n",
    "\n",
    "    calculator = CP2K(xc=functional, inp=input_string)\n",
    "    for distance in tqdm(distances):\n",
    "        atoms = ase.Atoms(\n",
    "            \"Ar2\", positions=[[0., 0., 0.], [distance, 0., 0.]], cell=[10.0, 10.0, 10.0]\n",
    "        )\n",
    "        \n",
    "        energy = calculator.get_potential_energy(atoms)\n",
    "        energies.append(energy)\n",
    "        force = calculator.get_forces(atoms)\n",
    "        forces.append(force)\n",
    "\n",
    "    return energies, forces"
   ]
  },
  {
   "cell_type": "code",
   "execution_count": null,
   "metadata": {},
   "outputs": [],
   "source": [
    "# Plot the comparison\n",
    "energies, forces = compute_energy_curves(distances, \"PBE\", restart_inp)\n",
    "plt.plot(distances, energies, label=\"PBE\")"
   ]
  },
  {
   "cell_type": "code",
   "execution_count": null,
   "metadata": {},
   "outputs": [],
   "source": []
  }
 ],
 "metadata": {
  "kernelspec": {
   "display_name": "theoml",
   "language": "python",
   "name": "python3"
  },
  "language_info": {
   "codemirror_mode": {
    "name": "ipython",
    "version": 3
   },
   "file_extension": ".py",
   "mimetype": "text/x-python",
   "name": "python",
   "nbconvert_exporter": "python",
   "pygments_lexer": "ipython3",
   "version": "3.10.14"
  }
 },
 "nbformat": 4,
 "nbformat_minor": 2
}
