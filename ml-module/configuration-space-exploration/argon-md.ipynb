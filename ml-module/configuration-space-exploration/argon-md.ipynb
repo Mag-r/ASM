{
 "cells": [
  {
   "cell_type": "code",
   "execution_count": 51,
   "metadata": {},
   "outputs": [],
   "source": [
    "# Linalg imports\n",
    "import jax.numpy as np\n",
    "from jax import random\n",
    "from jax import jit\n",
    "from jax import lax\n",
    "import argparse\n",
    "# Jax MD imports\n",
    "from jax_md import space, smap, energy, minimize, quantity, simulate\n",
    "\n",
    "# Helper imports\n",
    "from rich.progress import track\n",
    "\n",
    "# Plotting imports\n",
    "import matplotlib.pyplot as plt\n",
    "\n",
    "from tqdm import tqdm\n",
    "import bottleneck as bn"
   ]
  },
  {
   "cell_type": "code",
   "execution_count": 52,
   "metadata": {},
   "outputs": [],
   "source": [
    "# Parameters to correctly instantiate the simulation box.\n",
    "rho_argon = 1.40  # g/cm³\n",
    "mass_argon = 39.95  # g/mol\n",
    "avogadro = 6.022e23  # atoms/mol\n",
    "kb = 8.617e-5  # Boltzmann constant\n",
    "\n",
    "# Calculate number density in atoms/cm³\n",
    "n_argon = (rho_argon * avogadro) / mass_argon\n",
    "\n",
    "# Continuing from the previous calculation\n",
    "n_argon_cm3 = n_argon  # This is in atoms/cm³\n",
    "\n",
    "# Conversion factor from cm³ to Å³\n",
    "conversion_factor = 1e24  # (10^8)^3\n",
    "\n",
    "# Convert number density to atoms/Å³ for use in simulations\n",
    "n_argon_A3 = n_argon_cm3 / conversion_factor"
   ]
  },
  {
   "cell_type": "code",
   "execution_count": 53,
   "metadata": {},
   "outputs": [
    {
     "name": "stderr",
     "output_type": "stream",
     "text": [
      "/tmp/ipykernel_1124984/459390091.py:16: UserWarning: Explicitly requested dtype <class 'jax.numpy.float64'>  is not available, and will be truncated to dtype float32. To enable more dtypes, set the jax_enable_x64 configuration option or the JAX_ENABLE_X64 shell environment variable. See https://github.com/google/jax#current-gotchas for more.\n",
      "  initial_positions = random.uniform(\n"
     ]
    },
    {
     "data": {
      "image/png": "[encoded data removed]",
      "text/plain": [
       "<Figure size 640x480 with 1 Axes>"
      ]
     },
     "metadata": {},
     "output_type": "display_data"
    },
    {
     "name": "stderr",
     "output_type": "stream",
     "text": [
      " 10%|█         | 10150/100000 [00:04<00:42, 2123.50it/s]\n"
     ]
    },
    {
     "ename": "KeyboardInterrupt",
     "evalue": "",
     "output_type": "error",
     "traceback": [
      "\u001b[0;31m---------------------------------------------------------------------------\u001b[0m",
      "\u001b[0;31mKeyboardInterrupt\u001b[0m                         Traceback (most recent call last)",
      "Cell \u001b[0;32mIn[53], line 83\u001b[0m\n\u001b[1;32m     81\u001b[0m vel \u001b[38;5;241m=\u001b[39m []\n\u001b[1;32m     82\u001b[0m \u001b[38;5;28;01mfor\u001b[39;00m step \u001b[38;5;129;01min\u001b[39;00m tqdm(\u001b[38;5;28mrange\u001b[39m(num_steps)):\n\u001b[0;32m---> 83\u001b[0m     state \u001b[38;5;241m=\u001b[39m \u001b[43mapply_fn\u001b[49m\u001b[43m(\u001b[49m\u001b[43mstate\u001b[49m\u001b[43m)\u001b[49m  \u001b[38;5;66;03m# Update the state\u001b[39;00m\n\u001b[1;32m     84\u001b[0m     \u001b[38;5;66;03m# Record at certain intervals\u001b[39;00m\n\u001b[1;32m     85\u001b[0m     \u001b[38;5;28;01mif\u001b[39;00m step \u001b[38;5;241m%\u001b[39m \u001b[38;5;241m50\u001b[39m \u001b[38;5;241m==\u001b[39m \u001b[38;5;241m0\u001b[39m:\n\u001b[1;32m     86\u001b[0m         \u001b[38;5;66;03m# Compute the potential and kinetic energy\u001b[39;00m\n",
      "File \u001b[0;32m~/conda/envs/mlpes/lib/python3.10/site-packages/jax_md/dataclasses.py:56\u001b[0m, in \u001b[0;36mdataclass.<locals>.clz_from_iterable\u001b[0;34m(meta, data)\u001b[0m\n\u001b[1;32m     53\u001b[0m   data \u001b[38;5;241m=\u001b[39m \u001b[38;5;28mtuple\u001b[39m(\u001b[38;5;28mgetattr\u001b[39m(x, name) \u001b[38;5;28;01mfor\u001b[39;00m name \u001b[38;5;129;01min\u001b[39;00m data_fields)\n\u001b[1;32m     54\u001b[0m   \u001b[38;5;28;01mreturn\u001b[39;00m data, meta\n\u001b[0;32m---> 56\u001b[0m \u001b[38;5;28;01mdef\u001b[39;00m \u001b[38;5;21mclz_from_iterable\u001b[39m(meta, data):\n\u001b[1;32m     57\u001b[0m   meta_args \u001b[38;5;241m=\u001b[39m \u001b[38;5;28mtuple\u001b[39m(\u001b[38;5;28mzip\u001b[39m(meta_fields, meta))\n\u001b[1;32m     58\u001b[0m   data_args \u001b[38;5;241m=\u001b[39m \u001b[38;5;28mtuple\u001b[39m(\u001b[38;5;28mzip\u001b[39m(data_fields, data))\n",
      "\u001b[0;31mKeyboardInterrupt\u001b[0m: "
     ]
    }
   ],
   "source": [
    "# Get the initial conditions of the simulation\n",
    "n_particles = 64\n",
    "dimension = 3\n",
    "temperature_list = [85,100,115,130,145,160]  # In Kelvin\n",
    "dt=0.1  # Time step\n",
    "\n",
    "# Compute the box size\n",
    "box_size = quantity.box_size_at_number_density(n_particles, n_argon_A3, dimension)\n",
    "\n",
    "# Get displacement function\n",
    "displacement, shift = space.periodic(box_size) #displacement: calc wrapped dist; shift: wrap pos\n",
    "\n",
    "# Set initial positions of particles.\n",
    "key = random.PRNGKey(0)\n",
    "initial_positions = random.uniform(\n",
    "    key, (n_particles, dimension), minval=0.0, maxval=box_size, dtype=np.float64\n",
    ")\n",
    "# Lennard-Jones potential with standard argon parameters (epsilon and sigma)\n",
    "import jax_md\n",
    "sigma = 3.4  # Distance at which the potential reaches its minimum; unit Angstrom\n",
    "epsilon = 0.0103  # Depth of the potential well; unit eV\n",
    "energy_fn = jax_md.energy.lennard_jones_pair(displacement, sigma=sigma, epsilon=epsilon)\n",
    "\n"
   ]
  },
  {
   "cell_type": "code",
   "execution_count": null,
   "metadata": {},
   "outputs": [],
   "source": [
    "\n",
    "\n",
    "fire_init, fire_apply = minimize.fire_descent(energy_fn, shift)\n",
    "fire_apply = jit(fire_apply)\n",
    "fire_state = fire_init(initial_positions)\n",
    "\n",
    "# Perform the minimization\n",
    "energy = []\n",
    "\n",
    "# Adjust the minimisation steps until it converges\n",
    "for i in range(1000):\n",
    "  fire_state = fire_apply(fire_state)\n",
    "  energy += [energy_fn(fire_state.position)]\n",
    "# Make a plot of the energy as a function of the iteration to see convergence.\n",
    "plt.plot(energy)\n",
    "plt.xlabel('Iteration')\n",
    "plt.ylabel('potential Energy')\n",
    "plt.ylim(-100, 100)\n",
    "plt.show()\n"
   ]
  },
  {
   "cell_type": "code",
   "execution_count": null,
   "metadata": {},
   "outputs": [],
   "source": [
    "\n",
    "# Initialize velocities according to the Maxwell-Boltzmann distribution\n",
    "key, split = random.split(key)\n",
    "kT = kb * temperature\n",
    "\n",
    "# Integrate the equations of motion using the Velocity Verlet method\n",
    "init_fn, apply_fn = simulate.nve(energy_fn, shift, dt)\n",
    "state = init_fn(key, fire_state.position, kT)\n",
    "def compute_potential_energy(state):\n",
    "    \"\"\"\n",
    "    Compute the potential energy of the system.\n",
    "\n",
    "    Parameters\n",
    "    ----------\n",
    "    state \n",
    "        The current state of the simulation.\n",
    "    \"\"\"\n",
    "    # Implement the function\n",
    "    potential_energy = energy_fn(state.position)\n",
    "    return potential_energy\n",
    "\n",
    "def compute_kinetic_energy(state):\n",
    "    \"\"\"\n",
    "    Compute the kinetic energy of the system.\n",
    "\n",
    "    Parameters\n",
    "    ----------\n",
    "    state \n",
    "        The current state of the simulation.\n",
    "    \"\"\"\n",
    "    # Implement the function\n",
    "    kinetic_energy=quantity.kinetic_energy(momentum=state.momentum)\n",
    "    return kinetic_energy\n",
    "# Run the simulation and print the energy\n"
   ]
  },
  {
   "cell_type": "code",
   "execution_count": null,
   "metadata": {},
   "outputs": [],
   "source": [
    "\n",
    "num_steps = 100000  # Simulation steps\n",
    "\n",
    "potential_energy = []\n",
    "kinetic_energy = []\n",
    "trajectory = []\n",
    "vel = []\n",
    "for step in tqdm(range(num_steps)):\n",
    "    state = apply_fn(state)  # Update the state\n",
    "    # Record at certain intervals\n",
    "    if step % 50 == 0:\n",
    "        # Compute the potential and kinetic energy\n",
    "        potential_energy.append(compute_potential_energy(state))\n",
    "        kinetic_energy.append(compute_kinetic_energy(state))\n",
    "        trajectory.append(state.position)\n",
    "        vel.append(state.velocity)\n",
    "        # Add some trajectory recording here\n"
   ]
  },
  {
   "cell_type": "code",
   "execution_count": null,
   "metadata": {},
   "outputs": [],
   "source": [
    "\n",
    "# Plot the potential, kinetic, and total energy. 1/2 m v^2 = d*N*Kb*T/2\n",
    "potential_energy=bn.move_mean(potential_energy, window=5, min_count=1)\n",
    "kinetic_energy=bn.move_mean(kinetic_energy, window=5, min_count=1)\n",
    "time=np.linspace(0,num_steps*dt,len(potential_energy))\n",
    "plt.plot(time,potential_energy, label=f'Potential Energy; mean = {np.mean(potential_energy):.2f} eV')\n",
    "plt.plot(time,kinetic_energy, label='Kinetic Energy')\n",
    "plt.plot(time,np.array(potential_energy) + np.array(kinetic_energy), label='Total Energy')\n",
    "plt.xlabel('Time ')\n",
    "plt.ylabel('Energy [eV]')    \n",
    "plt.legend()\n",
    "plt.show()\n",
    "# Compute the pair correlation function\n"
   ]
  },
  {
   "cell_type": "code",
   "execution_count": null,
   "metadata": {},
   "outputs": [],
   "source": [
    "\n",
    "radii = np.linspace(0.1, box_size / 2, 200)\n",
    "gr = quantity.pair_correlation(displacement, radii, 0.033, compute_average=True)\n",
    "\n",
    "# The above function computes the pair correlation function for a single frame.\n",
    "# Take your generated trajectory and compute the average pair correlation function.\n",
    "# Plot the average pair correlation function and compare different temperatures.\n",
    "# Is the normalisation correct? If not, how would you correct it?\n",
    "rdf=np.zeros_like(gr(trajectory[0]))\n",
    "pressure=[]\n",
    "temp=[]\n",
    "for i in tqdm(range(len(trajectory))):\n",
    "    rdf+=np.array(gr(trajectory[i]))\n",
    "plt.plot(radii,rdf/len(trajectory))\n",
    "plt.show()\n"
   ]
  },
  {
   "cell_type": "code",
   "execution_count": null,
   "metadata": {},
   "outputs": [],
   "source": [
    "\n",
    "trajectory = np.array(trajectory)\n",
    "\n",
    "# Calculate the displacement vector for each time step\n",
    "def msd(x, dt):\n",
    "    n = int(np.shape(x)[0] / dt)\n",
    "    deltaX = 0.0\n",
    "    for j in range(1, n):\n",
    "        deltaX += np.sum((x[j * dt, :, :] - x[(j - 1) * dt, :, :]) ** 2)\n",
    "    return 1 / n * np.mean(deltaX.flatten())\n",
    "\n",
    "for i in tqdm(range(1,500)):\n",
    "    plt.plot(i,msd(trajectory,i),'k*')"
   ]
  }
 ],
 "metadata": {
  "kernelspec": {
   "display_name": "zincware",
   "language": "python",
   "name": "python3"
  },
  "language_info": {
   "codemirror_mode": {
    "name": "ipython",
    "version": 3
   },
   "file_extension": ".py",
   "mimetype": "text/x-python",
   "name": "python",
   "nbconvert_exporter": "python",
   "pygments_lexer": "ipython3",
   "version": "3.10.14"
  }
 },
 "nbformat": 4,
 "nbformat_minor": 2
}
